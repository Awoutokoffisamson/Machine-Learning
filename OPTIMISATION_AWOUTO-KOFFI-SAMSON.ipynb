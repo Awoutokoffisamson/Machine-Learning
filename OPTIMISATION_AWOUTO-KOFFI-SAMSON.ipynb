{
 "cells": [
  {
   "cell_type": "markdown",
   "metadata": {},
   "source": [
    "# Exercices du Tp de Machine Learning"
   ]
  },
  {
   "cell_type": "markdown",
   "metadata": {},
   "source": [
    "# Exercice 1"
   ]
  },
  {
   "cell_type": "markdown",
   "metadata": {},
   "source": [
    "Importation des packages "
   ]
  },
  {
   "cell_type": "code",
   "execution_count": 1,
   "metadata": {},
   "outputs": [],
   "source": [
    "from pathlib import Path\n",
    "\n",
    "import matplotlib.pyplot as plt\n",
    "import missingno as msno\n",
    "import numpy as np\n",
    "import pandas as pd\n",
    "import plotly.express as px\n",
    "import plotly.graph_objs as go\n",
    "import seaborn as sns\n",
    "from plotly.subplots import make_subplots\n",
    "from ydata_profiling import ProfileReport\n",
    "from yellowbrick.regressor import ResidualsPlot\n",
    "from sklearn import linear_model\n",
    "\n",
    "import statsmodels.formula.api as smf\n",
    "from sklearn import metrics\n",
    "from sklearn.model_selection import train_test_split\n",
    "from sklearn.preprocessing import StandardScaler, MinMaxScaler\n",
    "from scipy.stats import normaltest\n",
    "from statsmodels.stats.diagnostic import het_white , normal_ad\n",
    "from sklearn.metrics import mean_absolute_error, mean_absolute_percentage_error, mean_squared_error, max_error\n"
   ]
  },
  {
   "cell_type": "markdown",
   "metadata": {},
   "source": [
    "Importation de la base"
   ]
  },
  {
   "cell_type": "code",
   "execution_count": 2,
   "metadata": {},
   "outputs": [
    {
     "name": "stdout",
     "output_type": "stream",
     "text": [
      "Work directory: C:\\Users\\HP\\Downloads \n",
      "Data directory: C:\\Users\\HP\\Downloads\\billets.csv\n"
     ]
    },
    {
     "data": {
      "text/plain": [
       "(1500, 7)"
      ]
     },
     "execution_count": 2,
     "metadata": {},
     "output_type": "execute_result"
    }
   ],
   "source": [
    "# Définition du répertoire de travail\n",
    "HOME_DIR = Path.cwd()\n",
    "\n",
    "\n",
    "DATA_DIR = Path(HOME_DIR, \"billets.csv\")\n",
    "\n",
    "print(f\"Work directory: {HOME_DIR} \\nData directory: {DATA_DIR}\")\n",
    "\n",
    "# importation de la base\n",
    "data = pd.read_csv(Path(DATA_DIR), sep=\";\")\n",
    "data.shape"
   ]
  },
  {
   "cell_type": "code",
   "execution_count": null,
   "metadata": {},
   "outputs": [],
   "source": [
    "Création des variables explicatives"
   ]
  },
  {
   "cell_type": "code",
   "execution_count": 3,
   "metadata": {},
   "outputs": [
    {
     "name": "stdout",
     "output_type": "stream",
     "text": [
      "<class 'pandas.core.frame.DataFrame'>\n",
      "Index: 1463 entries, 0 to 1499\n",
      "Data columns (total 7 columns):\n",
      " #   Column        Non-Null Count  Dtype  \n",
      "---  ------        --------------  -----  \n",
      " 0   is_genuine    1463 non-null   bool   \n",
      " 1   diagonal      1463 non-null   float64\n",
      " 2   height_left   1463 non-null   float64\n",
      " 3   height_right  1463 non-null   float64\n",
      " 4   margin_low    1463 non-null   float64\n",
      " 5   margin_up     1463 non-null   float64\n",
      " 6   length        1463 non-null   float64\n",
      "dtypes: bool(1), float64(6)\n",
      "memory usage: 81.4 KB\n"
     ]
    }
   ],
   "source": [
    "data_model = data.loc[lambda dfr: dfr.margin_low.notnull()]\n",
    "data_model.info()\n",
    "\n",
    "X = data_model.loc[:, [\"diagonal\", \"height_left\", \"height_right\", \"margin_up\", \"length\"]]  # Variable explicatives\n",
    "y = data_model.loc[:, 'margin_low']"
   ]
  },
  {
   "cell_type": "code",
   "execution_count": 4,
   "metadata": {},
   "outputs": [
    {
     "data": {
      "text/html": [
       "<div>\n",
       "<style scoped>\n",
       "    .dataframe tbody tr th:only-of-type {\n",
       "        vertical-align: middle;\n",
       "    }\n",
       "\n",
       "    .dataframe tbody tr th {\n",
       "        vertical-align: top;\n",
       "    }\n",
       "\n",
       "    .dataframe thead th {\n",
       "        text-align: right;\n",
       "    }\n",
       "</style>\n",
       "<table border=\"1\" class=\"dataframe\">\n",
       "  <thead>\n",
       "    <tr style=\"text-align: right;\">\n",
       "      <th></th>\n",
       "      <th>diagonal</th>\n",
       "      <th>height_left</th>\n",
       "      <th>height_right</th>\n",
       "      <th>margin_up</th>\n",
       "      <th>length</th>\n",
       "    </tr>\n",
       "  </thead>\n",
       "  <tbody>\n",
       "    <tr>\n",
       "      <th>0</th>\n",
       "      <td>171.81</td>\n",
       "      <td>104.86</td>\n",
       "      <td>104.95</td>\n",
       "      <td>2.89</td>\n",
       "      <td>112.83</td>\n",
       "    </tr>\n",
       "    <tr>\n",
       "      <th>1</th>\n",
       "      <td>171.46</td>\n",
       "      <td>103.36</td>\n",
       "      <td>103.66</td>\n",
       "      <td>2.99</td>\n",
       "      <td>113.09</td>\n",
       "    </tr>\n",
       "    <tr>\n",
       "      <th>2</th>\n",
       "      <td>172.69</td>\n",
       "      <td>104.48</td>\n",
       "      <td>103.50</td>\n",
       "      <td>2.94</td>\n",
       "      <td>113.16</td>\n",
       "    </tr>\n",
       "    <tr>\n",
       "      <th>3</th>\n",
       "      <td>171.36</td>\n",
       "      <td>103.91</td>\n",
       "      <td>103.94</td>\n",
       "      <td>3.01</td>\n",
       "      <td>113.51</td>\n",
       "    </tr>\n",
       "    <tr>\n",
       "      <th>4</th>\n",
       "      <td>171.73</td>\n",
       "      <td>104.28</td>\n",
       "      <td>103.46</td>\n",
       "      <td>3.48</td>\n",
       "      <td>112.54</td>\n",
       "    </tr>\n",
       "  </tbody>\n",
       "</table>\n",
       "</div>"
      ],
      "text/plain": [
       "   diagonal  height_left  height_right  margin_up  length\n",
       "0    171.81       104.86        104.95       2.89  112.83\n",
       "1    171.46       103.36        103.66       2.99  113.09\n",
       "2    172.69       104.48        103.50       2.94  113.16\n",
       "3    171.36       103.91        103.94       3.01  113.51\n",
       "4    171.73       104.28        103.46       3.48  112.54"
      ]
     },
     "execution_count": 4,
     "metadata": {},
     "output_type": "execute_result"
    }
   ],
   "source": [
    "X.head()"
   ]
  },
  {
   "cell_type": "code",
   "execution_count": 5,
   "metadata": {},
   "outputs": [
    {
     "name": "stdout",
     "output_type": "stream",
     "text": [
      "Train set - X: (1024, 5) ; y: (1024,) \n",
      "Test set - X: (439, 5) ; y: (439,)\n"
     ]
    }
   ],
   "source": [
    "# Séparons nos données en un jeu d'entraînement et un jeu de test :\n",
    "# 30% des données dans le jeu de test\n",
    "X_train, X_test, y_train, y_test = train_test_split(X, y, test_size=0.3, random_state=42)\n",
    "\n",
    "print(f\"Train set - X: {X_train.shape} ; y: {y_train.shape} \\nTest set - X: {X_test.shape} ; y: {y_test.shape}\")\n"
   ]
  },
  {
   "cell_type": "markdown",
   "metadata": {},
   "source": [
    "# Standardisation"
   ]
  },
  {
   "cell_type": "code",
   "execution_count": 6,
   "metadata": {},
   "outputs": [],
   "source": [
    "std_scaler = StandardScaler().fit(X_train)  \n",
    "X_train_std = std_scaler.transform(X_train)\n",
    "X_test_std = std_scaler.transform(X_test)"
   ]
  },
  {
   "cell_type": "code",
   "execution_count": 10,
   "metadata": {},
   "outputs": [
    {
     "data": {
      "text/html": [
       "<div>\n",
       "<style scoped>\n",
       "    .dataframe tbody tr th:only-of-type {\n",
       "        vertical-align: middle;\n",
       "    }\n",
       "\n",
       "    .dataframe tbody tr th {\n",
       "        vertical-align: top;\n",
       "    }\n",
       "\n",
       "    .dataframe thead th {\n",
       "        text-align: right;\n",
       "    }\n",
       "</style>\n",
       "<table border=\"1\" class=\"dataframe\">\n",
       "  <thead>\n",
       "    <tr style=\"text-align: right;\">\n",
       "      <th></th>\n",
       "      <th>diagonal</th>\n",
       "      <th>height_left</th>\n",
       "      <th>height_right</th>\n",
       "      <th>margin_up</th>\n",
       "      <th>length</th>\n",
       "    </tr>\n",
       "  </thead>\n",
       "  <tbody>\n",
       "    <tr>\n",
       "      <th>1243</th>\n",
       "      <td>171.64</td>\n",
       "      <td>104.20</td>\n",
       "      <td>104.10</td>\n",
       "      <td>3.60</td>\n",
       "      <td>112.72</td>\n",
       "    </tr>\n",
       "    <tr>\n",
       "      <th>1348</th>\n",
       "      <td>171.84</td>\n",
       "      <td>104.32</td>\n",
       "      <td>104.50</td>\n",
       "      <td>3.00</td>\n",
       "      <td>111.06</td>\n",
       "    </tr>\n",
       "    <tr>\n",
       "      <th>137</th>\n",
       "      <td>171.60</td>\n",
       "      <td>104.02</td>\n",
       "      <td>103.90</td>\n",
       "      <td>3.15</td>\n",
       "      <td>113.15</td>\n",
       "    </tr>\n",
       "    <tr>\n",
       "      <th>607</th>\n",
       "      <td>171.91</td>\n",
       "      <td>104.17</td>\n",
       "      <td>103.62</td>\n",
       "      <td>2.89</td>\n",
       "      <td>112.73</td>\n",
       "    </tr>\n",
       "    <tr>\n",
       "      <th>1198</th>\n",
       "      <td>172.05</td>\n",
       "      <td>104.20</td>\n",
       "      <td>104.11</td>\n",
       "      <td>3.37</td>\n",
       "      <td>111.18</td>\n",
       "    </tr>\n",
       "    <tr>\n",
       "      <th>...</th>\n",
       "      <td>...</td>\n",
       "      <td>...</td>\n",
       "      <td>...</td>\n",
       "      <td>...</td>\n",
       "      <td>...</td>\n",
       "    </tr>\n",
       "    <tr>\n",
       "      <th>1161</th>\n",
       "      <td>171.92</td>\n",
       "      <td>104.29</td>\n",
       "      <td>104.27</td>\n",
       "      <td>3.13</td>\n",
       "      <td>111.37</td>\n",
       "    </tr>\n",
       "    <tr>\n",
       "      <th>1328</th>\n",
       "      <td>172.10</td>\n",
       "      <td>104.22</td>\n",
       "      <td>103.99</td>\n",
       "      <td>3.24</td>\n",
       "      <td>111.94</td>\n",
       "    </tr>\n",
       "    <tr>\n",
       "      <th>884</th>\n",
       "      <td>172.57</td>\n",
       "      <td>103.78</td>\n",
       "      <td>103.65</td>\n",
       "      <td>3.04</td>\n",
       "      <td>113.00</td>\n",
       "    </tr>\n",
       "    <tr>\n",
       "      <th>1496</th>\n",
       "      <td>172.19</td>\n",
       "      <td>104.63</td>\n",
       "      <td>104.44</td>\n",
       "      <td>3.37</td>\n",
       "      <td>110.97</td>\n",
       "    </tr>\n",
       "    <tr>\n",
       "      <th>1157</th>\n",
       "      <td>172.09</td>\n",
       "      <td>103.70</td>\n",
       "      <td>104.27</td>\n",
       "      <td>3.51</td>\n",
       "      <td>112.20</td>\n",
       "    </tr>\n",
       "  </tbody>\n",
       "</table>\n",
       "<p>1024 rows × 5 columns</p>\n",
       "</div>"
      ],
      "text/plain": [
       "      diagonal  height_left  height_right  margin_up  length\n",
       "1243    171.64       104.20        104.10       3.60  112.72\n",
       "1348    171.84       104.32        104.50       3.00  111.06\n",
       "137     171.60       104.02        103.90       3.15  113.15\n",
       "607     171.91       104.17        103.62       2.89  112.73\n",
       "1198    172.05       104.20        104.11       3.37  111.18\n",
       "...        ...          ...           ...        ...     ...\n",
       "1161    171.92       104.29        104.27       3.13  111.37\n",
       "1328    172.10       104.22        103.99       3.24  111.94\n",
       "884     172.57       103.78        103.65       3.04  113.00\n",
       "1496    172.19       104.63        104.44       3.37  110.97\n",
       "1157    172.09       103.70        104.27       3.51  112.20\n",
       "\n",
       "[1024 rows x 5 columns]"
      ]
     },
     "execution_count": 10,
     "metadata": {},
     "output_type": "execute_result"
    }
   ],
   "source": [
    "X_train"
   ]
  },
  {
   "cell_type": "code",
   "execution_count": 11,
   "metadata": {},
   "outputs": [
    {
     "data": {
      "text/plain": [
       "array([[-1.07074174,  0.5462928 ,  0.54806196,  1.91843401,  0.05088625],\n",
       "       [-0.40647448,  0.94600971,  1.77308884, -0.68168479, -1.8514336 ],\n",
       "       [-1.20359519, -0.05328258, -0.06445149, -0.03165509,  0.54365585],\n",
       "       ...,\n",
       "       [ 2.01810103, -0.85271641, -0.83009329, -0.50834354,  0.37175948],\n",
       "       [ 0.75599323,  1.97861174,  1.58933481,  0.9217218 , -1.95457142],\n",
       "       [ 0.4238596 , -1.11919435,  1.06869838,  1.52841619, -0.54502117]])"
      ]
     },
     "execution_count": 11,
     "metadata": {},
     "output_type": "execute_result"
    }
   ],
   "source": [
    "X_train_std"
   ]
  },
  {
   "cell_type": "code",
   "execution_count": 12,
   "metadata": {},
   "outputs": [
    {
     "data": {
      "text/plain": [
       "array([[-0.00791412,  1.14586817, -0.30945687,  0.70504524, -1.14092859],\n",
       "       [-0.57254129,  1.77875329,  0.36430792, -0.03165509,  0.89890835],\n",
       "       [ 0.09172597, -0.45299949,  0.88494435, -0.3783376 ,  0.38321924],\n",
       "       ...,\n",
       "       [ 0.98848677, -0.51961898,  0.70119032, -0.76835542,  0.64679367],\n",
       "       [ 0.09172597,  0.27981485,  0.79306733, -1.76506763,  0.57803512],\n",
       "       [ 1.38704713, -1.6188405 , -0.37070821, -1.11503793,  0.71555222]])"
      ]
     },
     "execution_count": 12,
     "metadata": {},
     "output_type": "execute_result"
    }
   ],
   "source": [
    "X_test_std"
   ]
  },
  {
   "cell_type": "code",
   "execution_count": null,
   "metadata": {},
   "outputs": [],
   "source": [
    "Définition de la fonction train_model"
   ]
  },
  {
   "cell_type": "code",
   "execution_count": 7,
   "metadata": {},
   "outputs": [],
   "source": [
    "def train_model(model, x_train, y_train, x_test, y_test):\n",
    "    # On entraîne ce modèle sur les données d'entrainement\n",
    "    model.fit(x_train, y_train)\n",
    "    \n",
    "    # On récupère l'erreur de norme 2 sur le jeu de données train\n",
    "    mse_train = np.mean((model.predict(x_train) - y_train) ** 2)\n",
    "\n",
    "    # On récupère l'erreur de norme 2 sur le jeu de données test\n",
    "    mse_test = np.mean((model.predict(x_test) - y_test) ** 2)\n",
    "\n",
    "    # On obtient l'erreur quadratique ci-dessous\n",
    "    print(f\"Model error: {round( mse_test, 5)}\")\n",
    "    return {\"estimator\": model, \" mse_train\":  mse_train, \"mse_test\": mse_test}"
   ]
  },
  {
   "cell_type": "code",
   "execution_count": 9,
   "metadata": {},
   "outputs": [
    {
     "name": "stdout",
     "output_type": "stream",
     "text": [
      "Model error: 0.42698\n"
     ]
    }
   ],
   "source": [
    "elastic_mse = train_model(model=linear_model.ElasticNet(fit_intercept=True, alpha=1., l1_ratio=.5),\n",
    "                            x_train=X_train_std, y_train=y_train,\n",
    "                            x_test=X_test_std, y_test=y_test)"
   ]
  },
  {
   "cell_type": "code",
   "execution_count": null,
   "metadata": {},
   "outputs": [],
   "source": [
    "Analyse des variables explicatives pour les données train"
   ]
  },
  {
   "cell_type": "code",
   "execution_count": 11,
   "metadata": {},
   "outputs": [
    {
     "name": "stdout",
     "output_type": "stream",
     "text": [
      "   Variable  Coefficient\n",
      "0         0         -0.0\n",
      "1         1          0.0\n",
      "2         2          0.0\n",
      "3         3          0.0\n",
      "4         4         -0.0\n"
     ]
    }
   ],
   "source": [
    "from sklearn.linear_model import ElasticNet\n",
    "\n",
    "# Créer et entraîner le modèle Elastic Net\n",
    "model=linear_model.ElasticNet(fit_intercept=True, alpha=1., l1_ratio=.5)\n",
    "# entrainement du modèle\n",
    "model.fit(X_train_std, y_train)\n",
    "# Extraire les coefficients\n",
    "coefficients = model.coef_\n",
    "\n",
    "# Afficher les coefficients avec le nom des variables (si les noms sont disponibles)\n",
    "import pandas as pd\n",
    "\n",
    "# Créer un DataFrame pour associer chaque variable à son coefficient\n",
    "coef_df = pd.DataFrame({\n",
    "    'Variable': X_train_std.columns if hasattr(X_train_std, 'columns') else range(len(coefficients)),\n",
    "    'Coefficient': coefficients\n",
    "})\n",
    "\n",
    "print(coef_df)\n"
   ]
  },
  {
   "cell_type": "code",
   "execution_count": null,
   "metadata": {},
   "outputs": [],
   "source": [
    "Analyse des variables explicatives pour les données test"
   ]
  },
  {
   "cell_type": "markdown",
   "metadata": {},
   "source": [
    "pour les données train on retient que: \n",
    "\n",
    "Coefficients Nulls : Tous les coefficients sont soit 0.0, soit très proches de 0.0. Cela suggère que le modèle n'a pas trouvé de relations significatives entre les variables d'entrée et la variable cible. Les coefficients proches de zéro indiquent que ces variables n'ont pas d'impact significatif sur la prédiction.\n",
    "\n",
    "Régularisation : Étant donné que le modèle utilise une régularisation (Elastic Net), il est possible que les coefficients aient été pénalisés pour éviter le surajustement. Cependant, dans ce cas, il semble que la régularisation ait conduit à des coefficients très faibles ou nuls.\n",
    "\n",
    "Performance du Modèle : Les coefficients proches de zéro peuvent indiquer que le modèle n'est pas performant sur ce jeu de données particulier. Il pourrait être nécessaire de réévaluer les données, d'ajuster les hyperparamètres du modèle, ou d'explorer d'autres modèles ou techniques de pré-traitement."
   ]
  },
  {
   "cell_type": "code",
   "execution_count": 12,
   "metadata": {},
   "outputs": [
    {
     "name": "stdout",
     "output_type": "stream",
     "text": [
      "   Variable  Coefficient\n",
      "0         0         -0.0\n",
      "1         1          0.0\n",
      "2         2          0.0\n",
      "3         3          0.0\n",
      "4         4         -0.0\n"
     ]
    }
   ],
   "source": [
    "# Créer et entraîner le modèle Elastic Net\n",
    "model=linear_model.ElasticNet(fit_intercept=True, alpha=1., l1_ratio=.5)\n",
    "# entrainement du modèle\n",
    "model.fit(X_test_std, y_test)\n",
    "# Extraire les coefficients\n",
    "coefficients = model.coef_\n",
    "\n",
    "# Afficher les coefficients avec le nom des variables (si les noms sont disponibles)\n",
    "import pandas as pd\n",
    "\n",
    "# Créer un DataFrame pour associer chaque variable à son coefficient\n",
    "coef_df = pd.DataFrame({\n",
    "    'Variable': X_train_std.columns if hasattr(X_train_std, 'columns') else range(len(coefficients)),\n",
    "    'Coefficient': coefficients\n",
    "})\n",
    "\n",
    "print(coef_df)"
   ]
  },
  {
   "cell_type": "markdown",
   "metadata": {},
   "source": [
    "\n",
    "Après entraînement on n'obtient pzs un grzand changement des données. en effet :\n",
    "Coefficients Nulls : Tous les coefficients sont soit 0.0, soit très proches de 0.0. Cela suggère que le modèle n'a pas trouvé de relations significatives entre les variables d'entrée et la variable cible. Les coefficients proches de zéro indiquent que ces variables n'ont pas d'impact significatif sur la prédiction.\n",
    "\n",
    "Régularisation : Étant donné que le modèle utilise une régularisation (Elastic Net), il est possible que les coefficients aient été pénalisés pour éviter le surajustement. Cependant, dans ce cas, il semble que la régularisation ait conduit à des coefficients très faibles ou nuls.\n",
    "\n",
    "Performance du Modèle : Les coefficients proches de zéro peuvent indiquer que le modèle n'est pas performant sur ce jeu de données particulier. Il pourrait être nécessaire de réévaluer les données, d'ajuster les hyperparamètres du modèle, ou d'explorer d'autres modèles ou techniques de pré-traitement."
   ]
  },
  {
   "cell_type": "markdown",
   "metadata": {},
   "source": [
    "# Analyse des variables"
   ]
  },
  {
   "cell_type": "markdown",
   "metadata": {},
   "source": [
    "# Interprétation des Résultats du Modèle Elastic Net\n",
    "\n",
    "D'après les résultats obtenus ci-dessus, les coefficients des variables explicatives sont quasi-nuls tant sur les données d'entraînement que sur les données de test. Les variables \"diagonal\" et \"length\" présentent des coefficients négatifs, mais très proches de zéro. Les autres variables, telles que \"height_left\", \"height_right\" et \"margin_up\", ont toutes des coefficients nuls. En valeur absolue, aucune variable n'a été identifiée comme importante pour la modélisation. Cela peut être dû à plusieurs raisons :\n",
    "\n",
    "## Raisons Possibles\n",
    "\n",
    "1. **Non-corrélation entre la variable cible et les variables explicatives** :\n",
    "   - Il est possible qu'il n'y ait pas de corrélation significative entre la variable cible et les variables explicatives.\n",
    "\n",
    "2. **Alpha trop élevé** :\n",
    "   - Un alpha trop élevé (la force de la régularisation) peut entraîner des coefficients nuls, car il impose une pénalisation excessive sur les coefficients, les forçant vers zéro.\n",
    "\n",
    "3. **L1_ratio trop élevé** :\n",
    "   - Un l1_ratio trop élevé (proche de 1) signifie que la pénalité L1 (Lasso) domine le modèle. Cela peut forcer les coefficients des variables à zéro, surtout si certaines variables sont fortement corrélées.\n",
    "\n",
    "Ces facteurs peuvent expliquer pourquoi les coefficients des variables explicatives sont quasi-nuls, rendant difficile l'identification de variables importantes pour la modélisation.\n",
    "\n",
    "## Conclusion\n",
    "\n",
    "Les résultats montrent que le modèle Elastic Net n'a pas trouvé de relations significatives entre les variables d'entrée et la variable cible dans ce jeu de données. Les coefficients proches de zéro suggèrent une faible ou aucune influence des variables sur la prédiction. Des ajustements supplémentaires ou une exploration de différents modèles peuvent être nécessaires pour améliorer la performance du modèle.\n"
   ]
  },
  {
   "cell_type": "markdown",
   "metadata": {},
   "source": [
    "# Exercice 2"
   ]
  },
  {
   "cell_type": "markdown",
   "metadata": {},
   "source": [
    "# Optimisation du modèle Ridge"
   ]
  },
  {
   "cell_type": "code",
   "execution_count": 37,
   "metadata": {},
   "outputs": [
    {
     "name": "stdout",
     "output_type": "stream",
     "text": [
      "Best alpha for Ridge: 10.0\n",
      "Ridge MSE: 0.21612728031473544\n"
     ]
    }
   ],
   "source": [
    "from sklearn.linear_model import RidgeCV, LassoCV, ElasticNetCV\n",
    "from sklearn.metrics import mean_squared_error\n",
    "\n",
    "# Liste des valeurs de alpha à tester\n",
    "alphas =  [0.001,0.01, 0.1, 1, 10, 100]\n",
    "# Modèle Ridge avec optimisation de alpha\n",
    "ridge_cv = RidgeCV(alphas=alphas, cv=5)  # cv=5 pour la validation croisée\n",
    "ridge_cv.fit(X_train, y_train)\n",
    "ridge_predictions = ridge_cv.predict(X_test)\n",
    "ridge_mse = mean_squared_error(y_test, ridge_predictions)\n",
    "print(\"Best alpha for Ridge:\", ridge_cv.alpha_)\n",
    "print(\"Ridge MSE:\", ridge_mse)\n",
    "\n",
    "\n",
    "\n",
    "\n"
   ]
  },
  {
   "cell_type": "markdown",
   "metadata": {},
   "source": [
    "Durésultat ci-dessus on note que \n",
    "Optimisation de alpha : La valeur de alpha optimale pour le modèle Ridge est 10.0, ce qui indique que cette valeur de régularisation a permis d'obtenir les meilleures performances lors de la validation croisée.\n",
    "Performance du Modèle : L'erreur quadratique moyenne (MSE) de 0.216 montre que le modèle Ridge a une certaine précision sur les données de test, bien que cette valeur puisse être améliorée."
   ]
  },
  {
   "cell_type": "code",
   "execution_count": 27,
   "metadata": {},
   "outputs": [
    {
     "data": {
      "image/png": "[encoded data removed]",
      "text/plain": [
       "<Figure size 1000x600 with 1 Axes>"
      ]
     },
     "metadata": {},
     "output_type": "display_data"
    }
   ],
   "source": [
    "import numpy as np\n",
    "import matplotlib.pyplot as plt\n",
    "from sklearn.linear_model import Ridge\n",
    "from sklearn.model_selection import cross_val_score\n",
    "\n",
    "# Définir une plage de valeurs pour alpha\n",
    "alphas = np.logspace(-3, 3, 100)  # de 0.001 à 100\n",
    "ridge_mse_path = []\n",
    "\n",
    "# Boucle pour calculer la MSE en validation croisée pour chaque alpha\n",
    "for alpha in alphas:\n",
    "    ridge = Ridge(alpha=alpha)\n",
    "    # On prend la moyenne des scores de validation croisée en 5-fold (5 plis)\n",
    "    mse = -cross_val_score(ridge, X_train, y_train, scoring=\"neg_mean_squared_error\", cv=5).mean()\n",
    "    ridge_mse_path.append(mse)\n",
    "\n",
    "# Tracer la courbe de MSE en fonction d'alpha\n",
    "plt.figure(figsize=(10, 6))\n",
    "plt.plot(alphas, ridge_mse_path, label=\"Ridge\", color=\"blue\")\n",
    "plt.xscale('log')\n",
    "plt.xlabel(\"Alpha\")\n",
    "plt.ylabel(\"Erreur Quadratique Moyenne (MSE)\")\n",
    "plt.title(\"Courbe de Validation pour Alpha - Ridge\")\n",
    "plt.legend()\n",
    "plt.grid(True)\n",
    "plt.show()\n"
   ]
  },
  {
   "cell_type": "markdown",
   "metadata": {},
   "source": [
    "La courbe de validation pour le modèle Ridge montre l'évolution de l'erreur quadratique moyenne (MSE) en fonction des différentes valeurs de l'hyperparamètre alpha. On observe que pour des valeurs d'alpha très faibles, la MSE reste relativement stable et basse, indiquant une bonne performance du modèle. Cependant, à mesure que la valeur d'alpha augmente, la MSE commence à augmenter de manière significative, ce qui suggère un surajustement du modèle. Enfin, pour les valeurs d'alpha très élevées, la MSE devient très élevée, indiquant une perte de performance du modèle."
   ]
  },
  {
   "cell_type": "markdown",
   "metadata": {},
   "source": [
    "# optimisation du modèle Lasso"
   ]
  },
  {
   "cell_type": "code",
   "execution_count": 36,
   "metadata": {},
   "outputs": [
    {
     "name": "stdout",
     "output_type": "stream",
     "text": [
      "Best alpha for Lasso: 0.001\n",
      "Lasso MSE: 0.21627845861718403\n"
     ]
    }
   ],
   "source": [
    "# Liste des valeurs de alpha à tester\n",
    "alphas = [0.001,0.01, 0.1, 1, 10, 100]\n",
    "# Modèle Lasso avec optimisation de alpha\n",
    "lasso_cv = LassoCV(alphas=alphas, cv=5)\n",
    "lasso_cv.fit(X_train_std, y_train)\n",
    "lasso_predictions = lasso_cv.predict(X_test_std)\n",
    "lasso_mse = mean_squared_error(y_test, lasso_predictions)\n",
    "print(\"Best alpha for Lasso:\", lasso_cv.alpha_)\n",
    "print(\"Lasso MSE:\", lasso_mse)"
   ]
  },
  {
   "cell_type": "code",
   "execution_count": 28,
   "metadata": {},
   "outputs": [
    {
     "data": {
      "image/png": "[encoded data removed]",
      "text/plain": [
       "<Figure size 1000x600 with 1 Axes>"
      ]
     },
     "metadata": {},
     "output_type": "display_data"
    }
   ],
   "source": [
    "import numpy as np\n",
    "import matplotlib.pyplot as plt\n",
    "from sklearn.linear_model import Lasso\n",
    "from sklearn.model_selection import cross_val_score\n",
    "\n",
    "# Définir une plage de valeurs pour alpha\n",
    "alphas = np.logspace(-3, 3, 100)  # de 0.001 à 100\n",
    "lasso_mse_path = []\n",
    "\n",
    "# Boucle pour calculer la MSE en validation croisée pour chaque alpha\n",
    "for alpha in alphas:\n",
    "    lasso = Lasso(alpha=alpha)\n",
    "    # On prend la moyenne des scores de validation croisée en 5-fold (5 plis)\n",
    "    mse = -cross_val_score(lasso, X_train, y_train, scoring=\"neg_mean_squared_error\", cv=5).mean()\n",
    "    lasso_mse_path.append(mse)\n",
    "\n",
    "# Tracer la courbe de MSE en fonction d'alpha\n",
    "plt.figure(figsize=(10, 6))\n",
    "plt.plot(alphas, lasso_mse_path, label=\"Lasso\", color=\"blue\")\n",
    "plt.xscale('log')\n",
    "plt.xlabel(\"Alpha\")\n",
    "plt.ylabel(\"Erreur Quadratique Moyenne (MSE)\")\n",
    "plt.title(\"Courbe de Validation pour Alpha - Lasso\")\n",
    "plt.legend()\n",
    "plt.grid(True)\n",
    "plt.show()\n"
   ]
  },
  {
   "cell_type": "markdown",
   "metadata": {},
   "source": [
    "La courbe de validation des alphas pour le modèle Lasso montre l'évolution de l'erreur quadratique moyenne (MSE) en fonction des différentes valeurs de l'hyperparamètre alpha. On observe que les valeurs d'alpha inférieures à 0.001 minimisent l'erreur quadratique moyenne, atteignant une valeur d'environ 0.22. Cela indique que pour ces valeurs d'alpha, le modèle Lasso parvient à un bon ajustement des données.\n",
    "\n",
    "Pour des valeurs d'alpha comprises entre 0.001 et environ 0.1, l'erreur quadratique moyenne reste relativement stable et basse, ce qui suggère que le modèle conserve une bonne performance. Cependant, au-delà de 0.1, l'erreur quadratique moyenne commence à augmenter de manière significative, indiquant un surajustement du modèle."
   ]
  },
  {
   "cell_type": "markdown",
   "metadata": {},
   "source": [
    "# Optimisation du modèle Elastic_net"
   ]
  },
  {
   "cell_type": "code",
   "execution_count": 39,
   "metadata": {},
   "outputs": [
    {
     "name": "stdout",
     "output_type": "stream",
     "text": [
      "Best alpha for Elastic Net: 0.01\n",
      "Best l1_ratio for Elastic Net: 0.1\n",
      "Elastic Net MSE: 0.2163614011364333\n"
     ]
    }
   ],
   "source": [
    "# Liste des valeurs de alpha à tester\n",
    "alphas = [0.001,0.01, 0.1, 1, 10, 100]\n",
    "# Modèle Elastic Net avec optimisation de alpha et l1_ratio\n",
    "elastic_net_cv = ElasticNetCV(alphas=alphas, l1_ratio=[0.1, 0.5, 0.9], cv=5)\n",
    "elastic_net_cv.fit(X_train_std, y_train)\n",
    "elastic_net_predictions = elastic_net_cv.predict(X_test_std)\n",
    "elastic_net_mse = mean_squared_error(y_test, elastic_net_predictions)\n",
    "print(\"Best alpha for Elastic Net:\", elastic_net_cv.alpha_)\n",
    "print(\"Best l1_ratio for Elastic Net:\", elastic_net_cv.l1_ratio_)\n",
    "print(\"Elastic Net MSE:\", elastic_net_mse)"
   ]
  },
  {
   "cell_type": "markdown",
   "metadata": {},
   "source": [
    "# Importance des variables"
   ]
  },
  {
   "cell_type": "code",
   "execution_count": 41,
   "metadata": {
    "scrolled": true
   },
   "outputs": [
    {
     "name": "stdout",
     "output_type": "stream",
     "text": [
      "       Variable  Ridge Coefficients  Lasso Coefficients  \\\n",
      "0      diagonal           -0.080331           -0.025509   \n",
      "1   height_left            0.167500            0.052383   \n",
      "2  height_right            0.244682            0.084430   \n",
      "3     margin_up            0.244855            0.066037   \n",
      "4        length           -0.409318           -0.353119   \n",
      "\n",
      "   ElasticNet Coefficients  \n",
      "0                -0.025524  \n",
      "1                 0.052807  \n",
      "2                 0.084761  \n",
      "3                 0.067437  \n",
      "4                -0.348963  \n"
     ]
    },
    {
     "data": {
      "image/png": "[encoded data removed]",
      "text/plain": [
       "<Figure size 1200x800 with 1 Axes>"
      ]
     },
     "metadata": {},
     "output_type": "display_data"
    }
   ],
   "source": [
    "import pandas as pd\n",
    "import matplotlib.pyplot as plt\n",
    "\n",
    "# Extraire les coefficients pour chaque modèle\n",
    "coef_df = pd.DataFrame({\n",
    "    'Variable': X_train.columns if hasattr(X_train, 'columns') else range(len(ridge_cv.coef_)),\n",
    "    'Ridge Coefficients': ridge_cv.coef_,\n",
    "    'Lasso Coefficients': lasso_cv.coef_,\n",
    "    'ElasticNet Coefficients': elastic_net_cv.coef_\n",
    "})\n",
    "\n",
    "# Afficher les coefficients pour chaque modèle\n",
    "print(coef_df)\n",
    "\n",
    "# Visualisation de l'importance des coefficients pour chaque modèle\n",
    "coef_df.set_index('Variable').plot(kind='barh', figsize=(12, 8))\n",
    "plt.title(\"Importance des Variables dans les Modèles Ridge, Lasso, et ElasticNet\")\n",
    "plt.xlabel(\"Coefficient\")\n",
    "plt.show()\n"
   ]
  },
  {
   "cell_type": "markdown",
   "metadata": {},
   "source": [
    "# Analyse des Coefficients des Modèles Ridge, Lasso et Elastic Net\n",
    "\n",
    "En examinant les coefficients des modèles Ridge, Lasso et Elastic Net, nous constatons que la variable \"length\" est la plus influente. Elle présente les coefficients les plus élevés en valeur absolue dans tous les modèles, avec un impact négatif sur la cible. Cela signifie que la variable \"length\" contribue fortement et de manière négative à la prédiction.\n",
    "\n",
    "La variable \"height_right\" est également importante, avec des coefficients positifs relativement élevés dans les trois modèles. Cela indique qu'elle influence positivement la cible. Les variables \"height_left\" et \"margin_up\" jouent un rôle modéré, avec des valeurs de coefficients positives mais moins significatives. Enfin, la variable \"diagonal\" a peu d'impact, avec des coefficients proches de zéro, ce qui pourrait indiquer une contribution négligeable au modèle.\n",
    "\n",
    "## Interprétation des Résultats\n",
    "\n",
    "- **Variable \"length\"** : La variable \"length\" est la plus influente, avec des coefficients négatifs élevés dans tous les modèles. Cela suggère qu'une longueur plus importante est associée à une diminution de la cible prédite.\n",
    "- **Variable \"height_right\"** : La variable \"height_right\" a des coefficients positifs relativement élevés, indiquant une influence positive sur la cible. Une hauteur droite plus élevée est donc associée à une augmentation de la cible prédite.\n",
    "- **Variables \"height_left\" et \"margin_up\"** : Ces variables jouent un rôle modéré avec des coefficients positifs, mais moins significatifs. Elles ont un impact modéré sur la prédiction.\n",
    "- **Variable \"diagonal\"** : La variable \"diagonal\" a peu d'impact, avec des coefficients proches de zéro, ce qui suggère une contribution négligeable au modèle.\n",
    "\n",
    "\n",
    "en conclusion, Les résultats montrent que certaines variables, telles que \"length\" et \"height_right\", ont un impact significatif sur la prédiction, tandis que d'autres, comme \"diagonal\", ont peu d'influence. Cette analyse permet de mieux comprendre les contributions relatives des variables et d'optimiser les modèles pour améliorer leur performance prédictive.\n"
   ]
  },
  {
   "cell_type": "code",
   "execution_count": 42,
   "metadata": {},
   "outputs": [
    {
     "data": {
      "image/png": "[encoded data removed]",
      "text/plain": [
       "<Figure size 1200x800 with 1 Axes>"
      ]
     },
     "metadata": {},
     "output_type": "display_data"
    }
   ],
   "source": [
    "import numpy as np\n",
    "import pandas as pd\n",
    "\n",
    "# Extraire les coefficients en valeurs absolues pour chaque modèle\n",
    "coef_df = pd.DataFrame({\n",
    "    'Variable': X_train.columns if hasattr(X_train, 'columns') else range(len(ridge_cv.coef_)),\n",
    "    'Ridge': np.abs(ridge_cv.coef_),\n",
    "    'Lasso': np.abs(lasso_cv.coef_),\n",
    "    'ElasticNet': np.abs(elastic_net_cv.coef_)\n",
    "})\n",
    "\n",
    "import seaborn as sns\n",
    "import matplotlib.pyplot as plt\n",
    "\n",
    "# Transformation du DataFrame pour un graphique Seaborn (melt)\n",
    "coef_df_melted = coef_df.melt(id_vars=\"Variable\", var_name=\"Modèle\", value_name=\"Coefficient\")\n",
    "\n",
    "# Tri des variables par importance moyenne\n",
    "coef_df_melted[\"Importance\"] = coef_df_melted[\"Coefficient\"]\n",
    "coef_df_melted = coef_df_melted.sort_values(by=\"Importance\", ascending=False)\n",
    "\n",
    "# Création du graphique en barres\n",
    "plt.figure(figsize=(12, 8))\n",
    "sns.barplot(data=coef_df_melted, x=\"Coefficient\", y=\"Variable\", hue=\"Modèle\", palette=\"viridis\")\n",
    "plt.title(\"Importance des Variables par Modèle (Valeurs Absolues)\")\n",
    "plt.xlabel(\"Coefficient (Valeur Absolue)\")\n",
    "plt.ylabel(\"Variables\")\n",
    "plt.legend(title=\"Modèle\")\n",
    "plt.show()\n"
   ]
  },
  {
   "cell_type": "markdown",
   "metadata": {},
   "source": [
    "## Importance Relative\n",
    "\n",
    "- **Length** : La variable \"length\" a la plus grande importance dans tous les modèles.\n",
    "\n",
    "- **Height_right et Margin_up** : Ces variables viennent après \"length\" en termes d'importance dans les trois modèles.\n",
    "\n",
    "- **Diagonal** : La variable \"diagonal\" a la plus faible importance.\n",
    "\n",
    "## Comparaison des Modèles\n",
    "\n",
    "Le graphique montre comment l'importance des variables varie entre les modèles. Ridge, Lasso, et ElasticNet attribuent une importance similaire à certaines variables clés, mais il peut y avoir des différences subtiles dans les valeurs des coefficients."
   ]
  },
  {
   "cell_type": "code",
   "execution_count": null,
   "metadata": {},
   "outputs": [],
   "source": []
  }
 ],
 "metadata": {
  "kernelspec": {
   "display_name": "Python 3",
   "language": "python",
   "name": "python3"
  },
  "language_info": {
   "codemirror_mode": {
    "name": "ipython",
    "version": 3
   },
   "file_extension": ".py",
   "mimetype": "text/x-python",
   "name": "python",
   "nbconvert_exporter": "python",
   "pygments_lexer": "ipython3",
   "version": "3.7.3"
  }
 },
 "nbformat": 4,
 "nbformat_minor": 5
}
